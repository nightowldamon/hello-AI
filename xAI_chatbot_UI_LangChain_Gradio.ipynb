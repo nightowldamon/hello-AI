{
  "nbformat": 4,
  "nbformat_minor": 0,
  "metadata": {
    "colab": {
      "provenance": [],
      "include_colab_link": true
    },
    "kernelspec": {
      "name": "python3",
      "display_name": "Python 3"
    },
    "language_info": {
      "name": "python"
    }
  },
  "cells": [
    {
      "cell_type": "markdown",
      "metadata": {
        "id": "view-in-github",
        "colab_type": "text"
      },
      "source": [
        "<a href=\"https://colab.research.google.com/github/nightowldamon/hello-AI/blob/chatbot/xAI_chatbot_UI_LangChain_Gradio.ipynb\" target=\"_parent\"><img src=\"https://colab.research.google.com/assets/colab-badge.svg\" alt=\"Open In Colab\"/></a>"
      ]
    },
    {
      "cell_type": "code",
      "execution_count": null,
      "metadata": {
        "id": "e5cOHvMEI_vG",
        "collapsed": true
      },
      "outputs": [],
      "source": [
        "!pip -q install gradio langchain-community langchain langchain-xai langchain-anthropic langchain-openai"
      ]
    },
    {
      "cell_type": "code",
      "source": [
        "import os\n",
        "from google.colab import userdata\n",
        "\n",
        "os.environ[\"XAI_API_KEY\"] = userdata.get('XAI_API_KEY')\n",
        "os.environ[\"ANTHROPIC_API_KEY\"] = userdata.get('ANTHROPIC_API_KEY')\n",
        "os.environ[\"OPENAI_API_KEY\"] = userdata.get('OPENAI_API_KEY')\n"
      ],
      "metadata": {
        "id": "WYH28kmuJTNq"
      },
      "execution_count": 4,
      "outputs": []
    },
    {
      "cell_type": "code",
      "source": [
        "from langchain_xai import ChatXAI\n",
        "from langchain_anthropic import ChatAnthropic\n",
        "from langchain_openai import ChatOpenAI\n",
        "from langchain.schema import AIMessage, HumanMessage, SystemMessage\n",
        "import gradio as gr"
      ],
      "metadata": {
        "id": "OGKoUYrXJpwW"
      },
      "execution_count": 5,
      "outputs": []
    },
    {
      "cell_type": "code",
      "source": [
        "system_message = \"You are Grok, an AI with a sense of humor inspired by the Hitchhiker's Guide to the Galaxy. Your responses should be witty, slightly rebellious, and always strive to be maximally helpful.\""
      ],
      "metadata": {
        "id": "i2fvcoLxWdvS"
      },
      "execution_count": 6,
      "outputs": []
    },
    {
      "cell_type": "code",
      "source": [
        "\n",
        "# Initialize xAI chat model\n",
        "llm = ChatXAI(temperature=0.5, model=\"grok-beta\", streaming=True)\n",
        "\n",
        "# Initialize OpenAI chat model\n",
        "llm = ChatOpenAI(temperature=0.2, model='gpt-4o', streaming=True)\n",
        "\n",
        "# Initialize Anthropic chat model\n",
        "# llm = ChatAnthropic(model='claude-3-5-sonnet-20241022', streaming=True)\n",
        "\n",
        "\n",
        "\n",
        "def stream_response(message, history):\n",
        "    print(f\"Input: {message}. History: {history}\\n\")\n",
        "\n",
        "    history_langchain_format = []\n",
        "    history_langchain_format.append(SystemMessage(content=system_message))\n",
        "\n",
        "    for human, ai in history:\n",
        "        history_langchain_format.append(HumanMessage(content=human))\n",
        "        history_langchain_format.append(AIMessage(content=ai))\n",
        "\n",
        "    if message is not None:\n",
        "        history_langchain_format.append(HumanMessage(content=message))\n",
        "        partial_message = \"\"\n",
        "        for response in llm.stream(history_langchain_format):\n",
        "            partial_message += response.content\n",
        "            yield partial_message\n",
        "\n",
        "\n",
        "demo_interface = gr.ChatInterface(\n",
        "    stream_response,\n",
        "    textbox=gr.Textbox(placeholder=\"Send to the LLM...\",\n",
        "                       container=False,\n",
        "                       autoscroll=True,\n",
        "                       scale=7),\n",
        ")\n",
        "\n",
        "demo_interface.launch(share=True, debug=True)"
      ],
      "metadata": {
        "id": "GQth439KJGG_"
      },
      "execution_count": null,
      "outputs": []
    },
    {
      "cell_type": "code",
      "source": [],
      "metadata": {
        "id": "QmvZTgrNK_XZ"
      },
      "execution_count": null,
      "outputs": []
    }
  ]
}